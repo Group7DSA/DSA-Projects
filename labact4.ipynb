{
  "nbformat": 4,
  "nbformat_minor": 0,
  "metadata": {
    "colab": {
      "provenance": [],
      "authorship_tag": "ABX9TyO/ptF1irMvDbEHI8/1g3wK",
      "include_colab_link": true
    },
    "kernelspec": {
      "name": "python3",
      "display_name": "Python 3"
    },
    "language_info": {
      "name": "python"
    }
  },
  "cells": [
    {
      "cell_type": "markdown",
      "metadata": {
        "id": "view-in-github",
        "colab_type": "text"
      },
      "source": [
        "<a href=\"https://colab.research.google.com/github/Group7DSA/DSA-Projects/blob/main/labact4.ipynb\" target=\"_parent\"><img src=\"https://colab.research.google.com/assets/colab-badge.svg\" alt=\"Open In Colab\"/></a>"
      ]
    },
    {
      "cell_type": "markdown",
      "source": [
        "Repeated Integer"
      ],
      "metadata": {
        "id": "qoEq4XIiAdTG"
      }
    },
    {
      "cell_type": "code",
      "execution_count": 2,
      "metadata": {
        "id": "dLOBQa9NqLGT",
        "colab": {
          "base_uri": "https://localhost:8080/"
        },
        "outputId": "f27c7fd8-4183-470b-e5ca-8c1828f253be"
      },
      "outputs": [
        {
          "output_type": "stream",
          "name": "stdout",
          "text": [
            "The repeated integer is: 3\n"
          ]
        }
      ],
      "source": [
        "def find_duplicate(nums):\n",
        "  slow = nums[0]\n",
        "  fast = nums[0]\n",
        "\n",
        "  while True:\n",
        "    slow = nums[slow]\n",
        "    fast = nums[nums[fast]]\n",
        "    if slow == fast:\n",
        "      break\n",
        "\n",
        "  slow = nums[0]\n",
        "  while slow != fast:\n",
        "    slow = nums[slow]\n",
        "    fast = nums[fast]\n",
        "  return slow\n",
        "\n",
        "arr = [2, 5, 1, 3, 4, 3]\n",
        "result = find_duplicate(arr)\n",
        "print(\"The repeated integer is:\", result)"
      ]
    },
    {
      "cell_type": "markdown",
      "source": [
        "Caesar Cipher"
      ],
      "metadata": {
        "id": "Ywv88NQtAfkB"
      }
    },
    {
      "cell_type": "code",
      "source": [
        "def CaesarCipher(message, shift):\n",
        "    alphabet_lower = list('abcdefghijklmnopqrstuvwxyz')\n",
        "    alphabet_upper = list('ABCDEFGHIJKLMNOPQRSTUVWXYZ')\n",
        "    result = \"\"\n",
        "\n",
        "    for char in message:\n",
        "        if char.islower():\n",
        "            index = alphabet_lower.index(char)\n",
        "            index = (index + shift) % len(alphabet_lower)\n",
        "            result += alphabet_lower[index]\n",
        "        elif char.isupper():\n",
        "            index = alphabet_upper.index(char)\n",
        "            index = (index + shift) % len(alphabet_upper)\n",
        "            result += alphabet_upper[index]\n",
        "        else:\n",
        "            result += char\n",
        "\n",
        "    return result\n",
        "message = input(\"Please input a message:\")\n",
        "print(CaesarCipher(message, 7))"
      ],
      "metadata": {
        "colab": {
          "base_uri": "https://localhost:8080/"
        },
        "id": "aAsZolb7-I8A",
        "outputId": "05f4276f-297d-4a4d-cb9b-7bcedb020318"
      },
      "execution_count": 27,
      "outputs": [
        {
          "output_type": "stream",
          "name": "stdout",
          "text": [
            "Please input a message:Hello, we are Group 7 WAKAS!\n",
            "Olssv, dl hyl Nyvbw 7 DHRHZ!\n"
          ]
        }
      ]
    }
  ]
}