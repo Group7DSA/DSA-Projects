{
  "nbformat": 4,
  "nbformat_minor": 0,
  "metadata": {
    "colab": {
      "provenance": [],
      "authorship_tag": "ABX9TyOEayKn6gE13VaZOM69WvJZ",
      "include_colab_link": true
    },
    "kernelspec": {
      "name": "python3",
      "display_name": "Python 3"
    },
    "language_info": {
      "name": "python"
    }
  },
  "cells": [
    {
      "cell_type": "markdown",
      "metadata": {
        "id": "view-in-github",
        "colab_type": "text"
      },
      "source": [
        "<a href=\"https://colab.research.google.com/github/Group7DSA/DSA-Projects/blob/main/labact8(updated2).ipynb\" target=\"_parent\"><img src=\"https://colab.research.google.com/assets/colab-badge.svg\" alt=\"Open In Colab\"/></a>"
      ]
    },
    {
      "cell_type": "code",
      "source": [
        "class Queue:\n",
        "    def __init__(self):\n",
        "        self.Q = []\n",
        "\n",
        "    def is_empty(self):\n",
        "        return len(self.Q) == 0\n",
        "\n",
        "    def enqueue(self, item):\n",
        "        self.Q.append(item)\n",
        "        print(\"Enqueued Element:\", item)\n",
        "\n",
        "    def dequeue(self):\n",
        "        if self.is_empty():\n",
        "            return \"The queue is empty\"\n",
        "        else:\n",
        "            item = self.Q.pop(0)\n",
        "            return item\n",
        "\n",
        "    def first(self):\n",
        "        if self.is_empty():\n",
        "            raise IndexError(\"The queue is empty\")\n",
        "        else:\n",
        "            return self.Q[0]\n",
        "\n",
        "    def Q_len(self):\n",
        "      return len(self.Q)\n",
        "\n",
        "queue = Queue()\n",
        "queue.enqueue(str(1))\n",
        "queue.enqueue(str(2))\n",
        "queue.enqueue(str(3))\n",
        "queue.enqueue(str(4))\n",
        "queue.enqueue(str(5))\n",
        "\n",
        "print(\"The elements in the queue are:\", str(queue.Q))\n",
        "\n",
        "front_element = queue.first()\n",
        "print(\"Front element of the queue:\", front_element)\n",
        "\n",
        "dequeued_element = queue.dequeue()\n",
        "print(\"Dequeued Element:\", dequeued_element)\n",
        "\n",
        "print(\"The elements in the queue after dequeue:\", str(queue.Q))\n",
        "\n",
        "print(\"Length of the queue:\", queue.Q_len())"
      ],
      "metadata": {
        "colab": {
          "base_uri": "https://localhost:8080/"
        },
        "id": "d9ZQ-qe5QnpD",
        "outputId": "1293d9d2-bd24-4ba2-a48a-7afb6095abe9"
      },
      "execution_count": 18,
      "outputs": [
        {
          "output_type": "stream",
          "name": "stdout",
          "text": [
            "Enqueued Element: 1\n",
            "Enqueued Element: 2\n",
            "Enqueued Element: 3\n",
            "Enqueued Element: 4\n",
            "Enqueued Element: 5\n",
            "The elements in the queue are: ['1', '2', '3', '4', '5']\n",
            "Front element of the queue: 1\n",
            "Dequeued Element: 1\n",
            "The elements in the queue after dequeue: ['2', '3', '4', '5']\n",
            "Length of the queue: 4\n"
          ]
        }
      ]
    }
  ]
}