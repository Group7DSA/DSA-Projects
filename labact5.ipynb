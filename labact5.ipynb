{
  "nbformat": 4,
  "nbformat_minor": 0,
  "metadata": {
    "colab": {
      "provenance": [],
      "authorship_tag": "ABX9TyMldmgx5oZZoeLLG1hhUI9J",
      "include_colab_link": true
    },
    "kernelspec": {
      "name": "python3",
      "display_name": "Python 3"
    },
    "language_info": {
      "name": "python"
    }
  },
  "cells": [
    {
      "cell_type": "markdown",
      "metadata": {
        "id": "view-in-github",
        "colab_type": "text"
      },
      "source": [
        "<a href=\"https://colab.research.google.com/github/ChristyAleaBadoy/58009-DSAA/blob/main/labact5.ipynb\" target=\"_parent\"><img src=\"https://colab.research.google.com/assets/colab-badge.svg\" alt=\"Open In Colab\"/></a>"
      ]
    },
    {
      "cell_type": "markdown",
      "source": [
        "Accessing the elements and getting the sums of an array"
      ],
      "metadata": {
        "id": "rUYGqMwHX2rZ"
      }
    },
    {
      "cell_type": "code",
      "execution_count": 8,
      "metadata": {
        "colab": {
          "base_uri": "https://localhost:8080/"
        },
        "id": "d8_X5exgTnRm",
        "outputId": "990e6fec-7659-43f7-a65a-36acd1cbde8d"
      },
      "outputs": [
        {
          "output_type": "stream",
          "name": "stdout",
          "text": [
            "Accessing elements through indexes: (1, 2, 3, 4, 5, 6, 7, 8, 9, 10)\n",
            "Sum of the elements of the array: 55\n"
          ]
        }
      ],
      "source": [
        "import numpy as np\n",
        "\n",
        "num = np.array([1,2,3,4,5,6,7,8,9,10])\n",
        "access = num[0], num[1], num[2], num[3], num[4], num[5], num[6], num[7], num[8], num[9]\n",
        "total = np.sum(num)\n",
        "\n",
        "print(\"Accessing elements through indexes:\", access)\n",
        "print(\"Sum of the elements of the array:\", total)\n"
      ]
    },
    {
      "cell_type": "markdown",
      "source": [
        "Appending an element at the end of an array"
      ],
      "metadata": {
        "id": "QpvGURbZXyR7"
      }
    },
    {
      "cell_type": "code",
      "source": [
        "numbers = [1,2,3,4,5,6,7,8,9,10]\n",
        "numbers.append(11)\n",
        "\n",
        "print(\"New element:\", 11)\n",
        "print(\"New array:\", numbers)"
      ],
      "metadata": {
        "colab": {
          "base_uri": "https://localhost:8080/"
        },
        "id": "jgD5Xx_dV1oz",
        "outputId": "5cba0524-4cc7-45b8-9ef1-ceb064646678"
      },
      "execution_count": 13,
      "outputs": [
        {
          "output_type": "stream",
          "name": "stdout",
          "text": [
            "New element: 11\n",
            "New array: [1, 2, 3, 4, 5, 6, 7, 8, 9, 10, 11]\n"
          ]
        }
      ]
    },
    {
      "cell_type": "markdown",
      "source": [
        "Inserting an element before the second element of an array"
      ],
      "metadata": {
        "id": "T0KcKyJ2XrX6"
      }
    },
    {
      "cell_type": "code",
      "source": [
        "numbers = [1,2,3,4,5,6,7,8,9,10]\n",
        "numbers.insert(1,11)\n",
        "\n",
        "print(\"New element:\", 11)\n",
        "print(\"New array:\", numbers)"
      ],
      "metadata": {
        "colab": {
          "base_uri": "https://localhost:8080/"
        },
        "id": "Q2F-MSXzXd34",
        "outputId": "1fc7f78a-8e5f-4785-9e50-bdc8d22db925"
      },
      "execution_count": 14,
      "outputs": [
        {
          "output_type": "stream",
          "name": "stdout",
          "text": [
            "New element: 11\n",
            "New array: [1, 11, 2, 3, 4, 5, 6, 7, 8, 9, 10]\n"
          ]
        }
      ]
    },
    {
      "cell_type": "markdown",
      "source": [
        "Reversing an array"
      ],
      "metadata": {
        "id": "ih0hOQoaYFbB"
      }
    },
    {
      "cell_type": "code",
      "source": [
        "numbers = [5, 4, 3, 2, 1]\n",
        "numbers.reverse()\n",
        "print(\"Reversed array:\", numbers)"
      ],
      "metadata": {
        "colab": {
          "base_uri": "https://localhost:8080/"
        },
        "id": "mKSMg8fNXncQ",
        "outputId": "e5ca8d34-e692-49b8-f665-8bf4d3739017"
      },
      "execution_count": 15,
      "outputs": [
        {
          "output_type": "stream",
          "name": "stdout",
          "text": [
            "Reversed array: [1, 2, 3, 4, 5]\n"
          ]
        }
      ]
    },
    {
      "cell_type": "markdown",
      "source": [
        "Getting the length of an array"
      ],
      "metadata": {
        "id": "IDMbD1I8YHiS"
      }
    },
    {
      "cell_type": "code",
      "source": [
        "numbers = [5, 4, 3, 2, 1]\n",
        "x = len(numbers)\n",
        "print(\"Length of the array:\", x)"
      ],
      "metadata": {
        "colab": {
          "base_uri": "https://localhost:8080/"
        },
        "id": "tHglFYS1YATZ",
        "outputId": "7d58ebb7-1f5a-4ae6-a974-23601277da43"
      },
      "execution_count": 16,
      "outputs": [
        {
          "output_type": "stream",
          "name": "stdout",
          "text": [
            "Length of the array: 5\n"
          ]
        }
      ]
    }
  ]
}