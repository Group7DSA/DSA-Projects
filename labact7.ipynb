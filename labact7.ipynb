{
  "nbformat": 4,
  "nbformat_minor": 0,
  "metadata": {
    "colab": {
      "provenance": [],
      "authorship_tag": "ABX9TyP7nUxnZyoM3FUrLF/sz79+",
      "include_colab_link": true
    },
    "kernelspec": {
      "name": "python3",
      "display_name": "Python 3"
    },
    "language_info": {
      "name": "python"
    }
  },
  "cells": [
    {
      "cell_type": "markdown",
      "metadata": {
        "id": "view-in-github",
        "colab_type": "text"
      },
      "source": [
        "<a href=\"https://colab.research.google.com/github/Group7DSA/DSA-Projects/blob/main/labact7.ipynb\" target=\"_parent\"><img src=\"https://colab.research.google.com/assets/colab-badge.svg\" alt=\"Open In Colab\"/></a>"
      ]
    },
    {
      "cell_type": "code",
      "execution_count": 1,
      "metadata": {
        "colab": {
          "base_uri": "https://localhost:8080/"
        },
        "id": "fVQ1CuxlJohu",
        "outputId": "b7af8290-863c-49e6-b209-9c6d4ae19dec"
      },
      "outputs": [
        {
          "output_type": "stream",
          "name": "stdout",
          "text": [
            "Prime or Composite?\n",
            "1 is neither prime nor a composite number\n",
            "2 is a prime number\n",
            "3 is a prime number\n",
            "4 is a composite number\n",
            "5 is a prime number\n",
            "6 is a composite number\n",
            "7 is a prime number\n",
            "8 is a composite number\n",
            "9 is a composite number\n",
            "10 is a composite number\n",
            "11 is a prime number\n",
            "12 is a composite number\n",
            "13 is a prime number\n",
            "14 is a composite number\n",
            "15 is a composite number\n",
            "16 is a composite number\n",
            "17 is a prime number\n",
            "18 is a composite number\n",
            "19 is a prime number\n",
            "20 is a composite number\n"
          ]
        }
      ],
      "source": [
        "import math\n",
        "\n",
        "class Node:\n",
        "    def __init__(self, data):\n",
        "        self.data = data\n",
        "        self.next = None\n",
        "\n",
        "class LinkedList:\n",
        "    def __init__(self):\n",
        "        self.head = None\n",
        "        self.tail = None\n",
        "\n",
        "    def append(self, data):\n",
        "        new_node = Node(data)\n",
        "        if self.head is None:\n",
        "            self.head = new_node\n",
        "            self.tail = new_node\n",
        "        else:\n",
        "            self.tail.next = new_node\n",
        "            self.tail = new_node\n",
        "\n",
        "def is_prime(num):\n",
        "    if num <= 1:\n",
        "        return False\n",
        "    if num == 2:\n",
        "        return True\n",
        "    if num % 2 == 0:\n",
        "        return False\n",
        "    sqrt_num = int(math.sqrt(num))\n",
        "    for i in range(3, sqrt_num + 1, 2):\n",
        "        if num % i == 0:\n",
        "            return False\n",
        "    return True\n",
        "\n",
        "def is_composite(num):\n",
        "    return num > 1 and not is_prime(num)\n",
        "\n",
        "integers_list = LinkedList()\n",
        "\n",
        "print(\"Prime or Composite?\")\n",
        "for i in range(1, 21):\n",
        "    if i == 1:\n",
        "        integers_list.append(f\"{i} is neither prime nor a composite number\")\n",
        "    elif is_prime(i):\n",
        "        integers_list.append(f\"{i} is a prime number\")\n",
        "    elif is_composite(i):\n",
        "        integers_list.append(f\"{i} is a composite number\")\n",
        "\n",
        "current_node = integers_list.head\n",
        "while current_node is not None:\n",
        "    print(current_node.data)\n",
        "    current_node = current_node.next"
      ]
    }
  ]
}